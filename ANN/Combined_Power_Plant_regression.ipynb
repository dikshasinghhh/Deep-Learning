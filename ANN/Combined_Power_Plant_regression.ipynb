{
  "nbformat": 4,
  "nbformat_minor": 0,
  "metadata": {
    "colab": {
      "provenance": [],
      "authorship_tag": "ABX9TyMwWj75vD0WHKT3V+3nnh7j",
      "include_colab_link": true
    },
    "kernelspec": {
      "name": "python3",
      "display_name": "Python 3"
    },
    "language_info": {
      "name": "python"
    }
  },
  "cells": [
    {
      "cell_type": "markdown",
      "metadata": {
        "id": "view-in-github",
        "colab_type": "text"
      },
      "source": [
        "<a href=\"https://colab.research.google.com/github/dikshasinghhh/Deep-Learning/blob/main/ANN/Combined_Power_Plant_regression.ipynb\" target=\"_parent\"><img src=\"https://colab.research.google.com/assets/colab-badge.svg\" alt=\"Open In Colab\"/></a>"
      ]
    },
    {
      "cell_type": "markdown",
      "source": [
        "# Importing the libraries"
      ],
      "metadata": {
        "id": "pFND7RgzguiS"
      }
    },
    {
      "cell_type": "code",
      "source": [
        "import numpy as np\n",
        "import pandas as pd\n",
        "import tensorflow as tf"
      ],
      "metadata": {
        "id": "20xuTiZxg0jL"
      },
      "execution_count": null,
      "outputs": []
    },
    {
      "cell_type": "code",
      "source": [
        "tf.__version__"
      ],
      "metadata": {
        "id": "jnEWP0kuhIKb",
        "colab": {
          "base_uri": "https://localhost:8080/",
          "height": 35
        },
        "outputId": "5f54dfa5-4789-4a0f-a7c5-ed1069b7a02a"
      },
      "execution_count": null,
      "outputs": [
        {
          "output_type": "execute_result",
          "data": {
            "text/plain": [
              "'2.15.0'"
            ],
            "application/vnd.google.colaboratory.intrinsic+json": {
              "type": "string"
            }
          },
          "metadata": {},
          "execution_count": 35
        }
      ]
    },
    {
      "cell_type": "markdown",
      "source": [
        "# Data Preprocessing"
      ],
      "metadata": {
        "id": "6r5NsuiDhOC8"
      }
    },
    {
      "cell_type": "code",
      "source": [
        "dataset= pd.read_excel('Folds5x2_pp.xlsx')\n",
        "x= dataset.iloc[:, :-1].values\n",
        "y= dataset.iloc[:,-1].values"
      ],
      "metadata": {
        "id": "jm2XkLLqiKUr"
      },
      "execution_count": null,
      "outputs": []
    },
    {
      "cell_type": "code",
      "source": [
        "print(x)"
      ],
      "metadata": {
        "colab": {
          "base_uri": "https://localhost:8080/"
        },
        "id": "BMoDwz_z8FqJ",
        "outputId": "e97b2e84-9946-46bf-ea0b-abe148ce428a"
      },
      "execution_count": null,
      "outputs": [
        {
          "output_type": "stream",
          "name": "stdout",
          "text": [
            "[[  14.96   41.76 1024.07   73.17]\n",
            " [  25.18   62.96 1020.04   59.08]\n",
            " [   5.11   39.4  1012.16   92.14]\n",
            " ...\n",
            " [  31.32   74.33 1012.92   36.48]\n",
            " [  24.48   69.45 1013.86   62.39]\n",
            " [  21.6    62.52 1017.23   67.87]]\n"
          ]
        }
      ]
    },
    {
      "cell_type": "code",
      "source": [
        "print(y)"
      ],
      "metadata": {
        "colab": {
          "base_uri": "https://localhost:8080/"
        },
        "id": "2ZS5nDv7ApUH",
        "outputId": "bbd4bba3-67d8-4cc9-af72-28a34d7322f5"
      },
      "execution_count": null,
      "outputs": [
        {
          "output_type": "stream",
          "name": "stdout",
          "text": [
            "[463.26 444.37 488.56 ... 429.57 435.74 453.28]\n"
          ]
        }
      ]
    },
    {
      "cell_type": "markdown",
      "source": [
        "splitting the dataset"
      ],
      "metadata": {
        "id": "acsV0TCRA1Ji"
      }
    },
    {
      "cell_type": "code",
      "source": [
        "from sklearn.model_selection import train_test_split\n",
        "x_train, x_test, y_train, y_test= train_test_split(x, y, test_size=0.2, random_state=0)"
      ],
      "metadata": {
        "id": "6NZ2KqM5BfQK"
      },
      "execution_count": null,
      "outputs": []
    },
    {
      "cell_type": "markdown",
      "source": [
        "#Feature Scaling"
      ],
      "metadata": {
        "id": "FGuB8ky4BtAN"
      }
    },
    {
      "cell_type": "markdown",
      "source": [
        "# Initalizing the ANN"
      ],
      "metadata": {
        "id": "swRY6y9SH1Vv"
      }
    },
    {
      "cell_type": "code",
      "source": [
        "ann=tf.keras.models.Sequential()"
      ],
      "metadata": {
        "id": "1waS8LUBH_oi"
      },
      "execution_count": null,
      "outputs": []
    },
    {
      "cell_type": "markdown",
      "source": [
        "Adding the Input layer"
      ],
      "metadata": {
        "id": "w6G6Vf-xIRVb"
      }
    },
    {
      "cell_type": "code",
      "source": [
        "ann.add(tf.keras.layers.Dense(units=6, activation='relu'))"
      ],
      "metadata": {
        "id": "R-_kt2yRIqoI"
      },
      "execution_count": null,
      "outputs": []
    },
    {
      "cell_type": "markdown",
      "source": [
        "second hidden layer"
      ],
      "metadata": {
        "id": "AWHm9Yp5IuAv"
      }
    },
    {
      "cell_type": "code",
      "source": [
        "ann.add(tf.keras.layers.Dense(units=6, activation='relu'))"
      ],
      "metadata": {
        "id": "YMpy-Y-jIy8G"
      },
      "execution_count": null,
      "outputs": []
    },
    {
      "cell_type": "markdown",
      "source": [
        "output layer"
      ],
      "metadata": {
        "id": "0e-hnXgfIzuX"
      }
    },
    {
      "cell_type": "code",
      "source": [
        "ann.add(tf.keras.layers.Dense(units=1,))"
      ],
      "metadata": {
        "id": "bX1q6_8SI20s"
      },
      "execution_count": null,
      "outputs": []
    },
    {
      "cell_type": "markdown",
      "source": [
        "#Compiling the ANN"
      ],
      "metadata": {
        "id": "WM2ncQgGMCBE"
      }
    },
    {
      "cell_type": "code",
      "source": [
        "ann.compile(optimizer = 'adam', loss = 'mean_squared_error')"
      ],
      "metadata": {
        "id": "MG0uP43OMFY4"
      },
      "execution_count": null,
      "outputs": []
    },
    {
      "cell_type": "markdown",
      "source": [
        "#Training the ANN"
      ],
      "metadata": {
        "id": "M9I1XxJ8MW0n"
      }
    },
    {
      "cell_type": "code",
      "source": [
        "ann.fit(x_train, y_train, batch_size = 32, epochs = 100)"
      ],
      "metadata": {
        "colab": {
          "base_uri": "https://localhost:8080/"
        },
        "id": "pol5fGsfUGVe",
        "outputId": "db8dc591-b8bf-45a4-e800-cb4dbcb04661"
      },
      "execution_count": null,
      "outputs": [
        {
          "output_type": "stream",
          "name": "stdout",
          "text": [
            "Epoch 1/100\n",
            "240/240 [==============================] - 2s 3ms/step - loss: 6342.3145\n",
            "Epoch 2/100\n",
            "240/240 [==============================] - 1s 3ms/step - loss: 376.2050\n",
            "Epoch 3/100\n",
            "240/240 [==============================] - 1s 3ms/step - loss: 346.1978\n",
            "Epoch 4/100\n",
            "240/240 [==============================] - 1s 3ms/step - loss: 309.6611\n",
            "Epoch 5/100\n",
            "240/240 [==============================] - 0s 2ms/step - loss: 270.5891\n",
            "Epoch 6/100\n",
            "240/240 [==============================] - 0s 2ms/step - loss: 230.2254\n",
            "Epoch 7/100\n",
            "240/240 [==============================] - 0s 2ms/step - loss: 190.6498\n",
            "Epoch 8/100\n",
            "240/240 [==============================] - 0s 2ms/step - loss: 150.9754\n",
            "Epoch 9/100\n",
            "240/240 [==============================] - 0s 2ms/step - loss: 116.3847\n",
            "Epoch 10/100\n",
            "240/240 [==============================] - 0s 2ms/step - loss: 87.1503\n",
            "Epoch 11/100\n",
            "240/240 [==============================] - 0s 2ms/step - loss: 64.5183\n",
            "Epoch 12/100\n",
            "240/240 [==============================] - 0s 2ms/step - loss: 49.3789\n",
            "Epoch 13/100\n",
            "240/240 [==============================] - 0s 2ms/step - loss: 40.7356\n",
            "Epoch 14/100\n",
            "240/240 [==============================] - 0s 2ms/step - loss: 35.4244\n",
            "Epoch 15/100\n",
            "240/240 [==============================] - 0s 2ms/step - loss: 33.1853\n",
            "Epoch 16/100\n",
            "240/240 [==============================] - 0s 2ms/step - loss: 30.8228\n",
            "Epoch 17/100\n",
            "240/240 [==============================] - 0s 2ms/step - loss: 29.8737\n",
            "Epoch 18/100\n",
            "240/240 [==============================] - 0s 2ms/step - loss: 29.1555\n",
            "Epoch 19/100\n",
            "240/240 [==============================] - 0s 2ms/step - loss: 28.6180\n",
            "Epoch 20/100\n",
            "240/240 [==============================] - 0s 2ms/step - loss: 28.4009\n",
            "Epoch 21/100\n",
            "240/240 [==============================] - 0s 2ms/step - loss: 28.0721\n",
            "Epoch 22/100\n",
            "240/240 [==============================] - 0s 2ms/step - loss: 27.8213\n",
            "Epoch 23/100\n",
            "240/240 [==============================] - 0s 2ms/step - loss: 28.3793\n",
            "Epoch 24/100\n",
            "240/240 [==============================] - 0s 2ms/step - loss: 27.3946\n",
            "Epoch 25/100\n",
            "240/240 [==============================] - 0s 2ms/step - loss: 27.1970\n",
            "Epoch 26/100\n",
            "240/240 [==============================] - 0s 2ms/step - loss: 28.2320\n",
            "Epoch 27/100\n",
            "240/240 [==============================] - 0s 2ms/step - loss: 28.2474\n",
            "Epoch 28/100\n",
            "240/240 [==============================] - 0s 2ms/step - loss: 27.8101\n",
            "Epoch 29/100\n",
            "240/240 [==============================] - 0s 2ms/step - loss: 27.3253\n",
            "Epoch 30/100\n",
            "240/240 [==============================] - 1s 3ms/step - loss: 27.9041\n",
            "Epoch 31/100\n",
            "240/240 [==============================] - 1s 3ms/step - loss: 28.2338\n",
            "Epoch 32/100\n",
            "240/240 [==============================] - 1s 3ms/step - loss: 27.3680\n",
            "Epoch 33/100\n",
            "240/240 [==============================] - 1s 3ms/step - loss: 27.6836\n",
            "Epoch 34/100\n",
            "240/240 [==============================] - 1s 3ms/step - loss: 27.6869\n",
            "Epoch 35/100\n",
            "240/240 [==============================] - 0s 2ms/step - loss: 27.1325\n",
            "Epoch 36/100\n",
            "240/240 [==============================] - 0s 2ms/step - loss: 27.7993\n",
            "Epoch 37/100\n",
            "240/240 [==============================] - 0s 2ms/step - loss: 27.8169\n",
            "Epoch 38/100\n",
            "240/240 [==============================] - 0s 2ms/step - loss: 27.4101\n",
            "Epoch 39/100\n",
            "240/240 [==============================] - 0s 2ms/step - loss: 27.2770\n",
            "Epoch 40/100\n",
            "240/240 [==============================] - 0s 2ms/step - loss: 27.3136\n",
            "Epoch 41/100\n",
            "240/240 [==============================] - 0s 2ms/step - loss: 27.5828\n",
            "Epoch 42/100\n",
            "240/240 [==============================] - 0s 2ms/step - loss: 27.8485\n",
            "Epoch 43/100\n",
            "240/240 [==============================] - 0s 2ms/step - loss: 27.3582\n",
            "Epoch 44/100\n",
            "240/240 [==============================] - 0s 2ms/step - loss: 27.7614\n",
            "Epoch 45/100\n",
            "240/240 [==============================] - 0s 2ms/step - loss: 27.5474\n",
            "Epoch 46/100\n",
            "240/240 [==============================] - 0s 2ms/step - loss: 27.1748\n",
            "Epoch 47/100\n",
            "240/240 [==============================] - 0s 2ms/step - loss: 27.6334\n",
            "Epoch 48/100\n",
            "240/240 [==============================] - 0s 2ms/step - loss: 29.0141\n",
            "Epoch 49/100\n",
            "240/240 [==============================] - 0s 2ms/step - loss: 28.1565\n",
            "Epoch 50/100\n",
            "240/240 [==============================] - 0s 2ms/step - loss: 27.4146\n",
            "Epoch 51/100\n",
            "240/240 [==============================] - 0s 2ms/step - loss: 28.4135\n",
            "Epoch 52/100\n",
            "240/240 [==============================] - 0s 2ms/step - loss: 27.1635\n",
            "Epoch 53/100\n",
            "240/240 [==============================] - 0s 2ms/step - loss: 28.0919\n",
            "Epoch 54/100\n",
            "240/240 [==============================] - 0s 2ms/step - loss: 27.6796\n",
            "Epoch 55/100\n",
            "240/240 [==============================] - 0s 2ms/step - loss: 27.5402\n",
            "Epoch 56/100\n",
            "240/240 [==============================] - 0s 2ms/step - loss: 27.7903\n",
            "Epoch 57/100\n",
            "240/240 [==============================] - 1s 3ms/step - loss: 27.8677\n",
            "Epoch 58/100\n",
            "240/240 [==============================] - 1s 3ms/step - loss: 27.1524\n",
            "Epoch 59/100\n",
            "240/240 [==============================] - 1s 2ms/step - loss: 27.5051\n",
            "Epoch 60/100\n",
            "240/240 [==============================] - 1s 3ms/step - loss: 27.0493\n",
            "Epoch 61/100\n",
            "240/240 [==============================] - 1s 3ms/step - loss: 27.7598\n",
            "Epoch 62/100\n",
            "240/240 [==============================] - 1s 3ms/step - loss: 27.2681\n",
            "Epoch 63/100\n",
            "240/240 [==============================] - 1s 3ms/step - loss: 28.0150\n",
            "Epoch 64/100\n",
            "240/240 [==============================] - 0s 2ms/step - loss: 27.3612\n",
            "Epoch 65/100\n",
            "240/240 [==============================] - 0s 2ms/step - loss: 26.7948\n",
            "Epoch 66/100\n",
            "240/240 [==============================] - 0s 2ms/step - loss: 28.0728\n",
            "Epoch 67/100\n",
            "240/240 [==============================] - 0s 2ms/step - loss: 28.1329\n",
            "Epoch 68/100\n",
            "240/240 [==============================] - 0s 2ms/step - loss: 27.0506\n",
            "Epoch 69/100\n",
            "240/240 [==============================] - 0s 2ms/step - loss: 27.5552\n",
            "Epoch 70/100\n",
            "240/240 [==============================] - 0s 2ms/step - loss: 27.4737\n",
            "Epoch 71/100\n",
            "240/240 [==============================] - 0s 2ms/step - loss: 27.4286\n",
            "Epoch 72/100\n",
            "240/240 [==============================] - 0s 2ms/step - loss: 27.2018\n",
            "Epoch 73/100\n",
            "240/240 [==============================] - 0s 2ms/step - loss: 27.4169\n",
            "Epoch 74/100\n",
            "240/240 [==============================] - 0s 2ms/step - loss: 27.6466\n",
            "Epoch 75/100\n",
            "240/240 [==============================] - 0s 2ms/step - loss: 28.3841\n",
            "Epoch 76/100\n",
            "240/240 [==============================] - 0s 2ms/step - loss: 27.1100\n",
            "Epoch 77/100\n",
            "240/240 [==============================] - 0s 2ms/step - loss: 26.8585\n",
            "Epoch 78/100\n",
            "240/240 [==============================] - 0s 2ms/step - loss: 27.5393\n",
            "Epoch 79/100\n",
            "240/240 [==============================] - 0s 2ms/step - loss: 27.0999\n",
            "Epoch 80/100\n",
            "240/240 [==============================] - 0s 2ms/step - loss: 27.2262\n",
            "Epoch 81/100\n",
            "240/240 [==============================] - 0s 2ms/step - loss: 27.6183\n",
            "Epoch 82/100\n",
            "240/240 [==============================] - 0s 2ms/step - loss: 27.6924\n",
            "Epoch 83/100\n",
            "240/240 [==============================] - 0s 2ms/step - loss: 26.8734\n",
            "Epoch 84/100\n",
            "240/240 [==============================] - 0s 2ms/step - loss: 28.8850\n",
            "Epoch 85/100\n",
            "240/240 [==============================] - 0s 2ms/step - loss: 27.1252\n",
            "Epoch 86/100\n",
            "240/240 [==============================] - 0s 2ms/step - loss: 26.5012\n",
            "Epoch 87/100\n",
            "240/240 [==============================] - 0s 2ms/step - loss: 27.7901\n",
            "Epoch 88/100\n",
            "240/240 [==============================] - 1s 2ms/step - loss: 27.5612\n",
            "Epoch 89/100\n",
            "240/240 [==============================] - 1s 3ms/step - loss: 27.7683\n",
            "Epoch 90/100\n",
            "240/240 [==============================] - 1s 3ms/step - loss: 27.8596\n",
            "Epoch 91/100\n",
            "240/240 [==============================] - 1s 3ms/step - loss: 27.7269\n",
            "Epoch 92/100\n",
            "240/240 [==============================] - 1s 2ms/step - loss: 28.0202\n",
            "Epoch 93/100\n",
            "240/240 [==============================] - 1s 3ms/step - loss: 27.3845\n",
            "Epoch 94/100\n",
            "240/240 [==============================] - 0s 2ms/step - loss: 27.0627\n",
            "Epoch 95/100\n",
            "240/240 [==============================] - 0s 2ms/step - loss: 27.4469\n",
            "Epoch 96/100\n",
            "240/240 [==============================] - 0s 2ms/step - loss: 28.3010\n",
            "Epoch 97/100\n",
            "240/240 [==============================] - 0s 2ms/step - loss: 27.2762\n",
            "Epoch 98/100\n",
            "240/240 [==============================] - 0s 2ms/step - loss: 28.2876\n",
            "Epoch 99/100\n",
            "240/240 [==============================] - 0s 2ms/step - loss: 27.2964\n",
            "Epoch 100/100\n",
            "240/240 [==============================] - 0s 2ms/step - loss: 27.6200\n"
          ]
        },
        {
          "output_type": "execute_result",
          "data": {
            "text/plain": [
              "<keras.src.callbacks.History at 0x7f738452c430>"
            ]
          },
          "metadata": {},
          "execution_count": 45
        }
      ]
    },
    {
      "cell_type": "markdown",
      "source": [
        "predicting the test set results"
      ],
      "metadata": {
        "id": "uEwIMX5_RPIK"
      }
    },
    {
      "cell_type": "code",
      "source": [
        "y_pred = ann.predict(x_test)\n",
        "np.set_printoptions(precision=2)\n",
        "print(np.concatenate((y_pred.reshape(len(y_pred),1), y_test.reshape(len(y_test),1)),1))"
      ],
      "metadata": {
        "colab": {
          "base_uri": "https://localhost:8080/"
        },
        "id": "nPwwoBGNRR1L",
        "outputId": "bbb4f164-757a-40f6-cece-70a59a134a4a"
      },
      "execution_count": null,
      "outputs": [
        {
          "output_type": "stream",
          "name": "stdout",
          "text": [
            "60/60 [==============================] - 0s 1ms/step\n",
            "[[432.65 431.23]\n",
            " [463.87 460.01]\n",
            " [467.4  461.14]\n",
            " ...\n",
            " [474.63 473.26]\n",
            " [441.37 438.  ]\n",
            " [460.62 463.28]]\n"
          ]
        }
      ]
    }
  ]
}